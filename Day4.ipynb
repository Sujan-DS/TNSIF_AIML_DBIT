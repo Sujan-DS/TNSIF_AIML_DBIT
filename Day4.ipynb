{
 "cells": [
  {
   "cell_type": "code",
   "execution_count": 1,
   "id": "98e8e2a8",
   "metadata": {},
   "outputs": [
    {
     "name": "stdout",
     "output_type": "stream",
     "text": [
      "{'alice': 1234, 'bob': 5678, 'david': 9123, 'Thomas': 4567}\n",
      "Enter the name whose number to be modifiedalice\n",
      "Enter the new number2543\n",
      "Modified successfully\n",
      "{'alice': '2543', 'bob': 5678, 'david': 9123, 'Thomas': 4567}\n"
     ]
    }
   ],
   "source": [
    "phonebook={\"alice\":1234,\"bob\":5678,\"david\":9123,\"Thomas\":4567}\n",
    "print(phonebook)\n",
    "\n",
    "name = input(\"Enter the name whose number to be modified\")\n",
    "if name in phonebook:\n",
    "    newnumb = input(\"Enter the new number\")\n",
    "    phonebook[name] = newnumb\n",
    "    print(\"Modified successfully\")\n",
    "    print(phonebook)\n",
    "else:\n",
    "    print(name, \"was not found.\")"
   ]
  },
  {
   "cell_type": "code",
   "execution_count": 2,
   "id": "11bf10c9",
   "metadata": {},
   "outputs": [
    {
     "name": "stdout",
     "output_type": "stream",
     "text": [
      "{'alice': 1234, 'bob': 5678, 'david': 9123}\n",
      "{'alice': 1234, 'bob': 5678, 'david': 9123, 'Thomas': 4567}\n",
      "{'alice': 1234, 'bob': 5678, 'david': 9123, 'Thomas': 4567, 'alen': 1928}\n"
     ]
    }
   ],
   "source": [
    "phonebook={\"alice\":1234,\"bob\":5678,\"david\":9123}\n",
    "print(phonebook)\n",
    "\n",
    "phonebook[\"Thomas\"] = 4567\n",
    "print(phonebook)\n",
    "\n",
    "phonebook.update({\"alen\":1928})\n",
    "print(phonebook)"
   ]
  },
  {
   "cell_type": "code",
   "execution_count": 3,
   "id": "e292873d",
   "metadata": {},
   "outputs": [
    {
     "name": "stdout",
     "output_type": "stream",
     "text": [
      "{'alice': 1234, 'bob': 5678, 'david': 9123, 'Thomas': 4567}\n",
      "enter the name to delete:david\n",
      "delete successfully\n",
      "{'alice': 1234, 'bob': 5678, 'Thomas': 4567}\n"
     ]
    }
   ],
   "source": [
    "phonebook={\"alice\":1234,\"bob\":5678,\"david\":9123,\"Thomas\":4567}\n",
    "print(phonebook)\n",
    "\n",
    "name = input(\"enter the name to delete:\")\n",
    "if name in phonebook:\n",
    "    del phonebook[name]\n",
    "    print (\"delete successfully\")\n",
    "    print (phonebook)\n",
    "else:\n",
    "    print (name,\"was not found\")"
   ]
  },
  {
   "cell_type": "code",
   "execution_count": 4,
   "id": "e40d73fe",
   "metadata": {},
   "outputs": [
    {
     "name": "stdout",
     "output_type": "stream",
     "text": [
      "{}\n"
     ]
    }
   ],
   "source": [
    "phonebook={\"alice\":1234,\"bob\":5678,\"david\":9123,\"Thomas\":4567}\n",
    "phonebook.clear()\n",
    "print(phonebook)"
   ]
  },
  {
   "cell_type": "code",
   "execution_count": null,
   "id": "8f4dc6e5",
   "metadata": {},
   "outputs": [],
   "source": []
  }
 ],
 "metadata": {
  "kernelspec": {
   "display_name": "Python 3 (ipykernel)",
   "language": "python",
   "name": "python3"
  },
  "language_info": {
   "codemirror_mode": {
    "name": "ipython",
    "version": 3
   },
   "file_extension": ".py",
   "mimetype": "text/x-python",
   "name": "python",
   "nbconvert_exporter": "python",
   "pygments_lexer": "ipython3",
   "version": "3.9.13"
  }
 },
 "nbformat": 4,
 "nbformat_minor": 5
}
