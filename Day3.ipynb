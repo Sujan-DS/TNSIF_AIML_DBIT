{
 "cells": [
  {
   "cell_type": "code",
   "execution_count": 1,
   "id": "edc7b922",
   "metadata": {},
   "outputs": [
    {
     "name": "stdout",
     "output_type": "stream",
     "text": [
      "['blue', 'black']\n"
     ]
    }
   ],
   "source": [
    "li = ['orange', 'blue', 'black', 'pink']\n",
    "\n",
    "li.pop()\n",
    "li.remove('orange')\n",
    "print(li)"
   ]
  },
  {
   "cell_type": "code",
   "execution_count": 2,
   "id": "06640193",
   "metadata": {},
   "outputs": [
    {
     "name": "stdout",
     "output_type": "stream",
     "text": [
      "Enter the 0th element: 2\n",
      "Enter the 1th element: 6\n",
      "Enter the 2th element: 4\n",
      "Enter the 3th element: 3\n",
      "Enter the 4th element: 8\n",
      "Enter the 5th element: 7\n",
      "Enter the 6th element: 9\n",
      "Enter the 7th element: 2\n",
      "Enter the 8th element: 1\n",
      "Enter the 9th element: 3\n"
     ]
    },
    {
     "data": {
      "text/plain": [
       "[2, 6, 8, 2]"
      ]
     },
     "execution_count": 2,
     "metadata": {},
     "output_type": "execute_result"
    }
   ],
   "source": [
    "li =[]\n",
    "for i in range(10):\n",
    "    ele = int(input(f\"Enter the {str(i)}th element: \"))\n",
    "    li += [ele]\n",
    "n = len(li)\n",
    "\n",
    "li.pop(2)\n",
    "\n",
    "li = [x for x in li if x % 2 == 0]\n",
    "li"
   ]
  },
  {
   "cell_type": "code",
   "execution_count": 3,
   "id": "3db3590f",
   "metadata": {},
   "outputs": [
    {
     "name": "stdout",
     "output_type": "stream",
     "text": [
      "[1, 2, 3, 4, 5, 6, 7, 8, 9, 10]\n"
     ]
    },
    {
     "data": {
      "text/plain": [
       "[10, 9, 8, 7, 6, 5, 4, 3, 2, 1]"
      ]
     },
     "execution_count": 3,
     "metadata": {},
     "output_type": "execute_result"
    }
   ],
   "source": [
    "li = [10, 9, 8, 7, 6, 5, 4, 3, 2, 1]\n",
    "\n",
    "li.sort()\n",
    "print(li)\n",
    "\n",
    "li.reverse()\n",
    "li"
   ]
  },
  {
   "cell_type": "code",
   "execution_count": 4,
   "id": "e8eaded1",
   "metadata": {},
   "outputs": [
    {
     "name": "stdout",
     "output_type": "stream",
     "text": [
      "['p', 'd', 'a', 'f', 'a', 'n']\n",
      "['n', 'f', 'a', 'd', 'p']\n"
     ]
    }
   ],
   "source": [
    "a = [2, 3, [2, 3]]\n",
    "\n",
    "a[0]\n",
    "a[2]\n",
    "\n",
    "k = ['a', 'p', 'd','a' ,'f','a','n']\n",
    "\n",
    "k.remove('a')\n",
    "print(k)\n",
    "k.reverse()\n",
    "k.remove('a')\n",
    "print(k)"
   ]
  },
  {
   "cell_type": "code",
   "execution_count": null,
   "id": "0f2e4d48",
   "metadata": {},
   "outputs": [],
   "source": []
  }
 ],
 "metadata": {
  "kernelspec": {
   "display_name": "Python 3 (ipykernel)",
   "language": "python",
   "name": "python3"
  },
  "language_info": {
   "codemirror_mode": {
    "name": "ipython",
    "version": 3
   },
   "file_extension": ".py",
   "mimetype": "text/x-python",
   "name": "python",
   "nbconvert_exporter": "python",
   "pygments_lexer": "ipython3",
   "version": "3.9.13"
  }
 },
 "nbformat": 4,
 "nbformat_minor": 5
}
