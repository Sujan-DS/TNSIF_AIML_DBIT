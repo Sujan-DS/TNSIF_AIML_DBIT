{
 "cells": [
  {
   "cell_type": "code",
   "execution_count": 7,
   "id": "90aa5179",
   "metadata": {},
   "outputs": [],
   "source": [
    "tup1 =  (1, 2, 3, 4)"
   ]
  },
  {
   "cell_type": "code",
   "execution_count": 6,
   "id": "013f3f86",
   "metadata": {},
   "outputs": [
    {
     "data": {
      "text/plain": [
       "tuple"
      ]
     },
     "execution_count": 6,
     "metadata": {},
     "output_type": "execute_result"
    }
   ],
   "source": [
    "tup = (3,)\n",
    "\n",
    "# It will throw an error\n",
    "# tup = (,)\n",
    "\n",
    "\n",
    "tup = ()\n",
    "type(tup)"
   ]
  },
  {
   "cell_type": "code",
   "execution_count": 5,
   "id": "d3ecb1c7",
   "metadata": {},
   "outputs": [
    {
     "data": {
      "text/plain": [
       "(1, 2, 3, 4)"
      ]
     },
     "execution_count": 5,
     "metadata": {},
     "output_type": "execute_result"
    }
   ],
   "source": [
    "tup = tuple([1, 2, 3,4])\n",
    "tup"
   ]
  },
  {
   "cell_type": "code",
   "execution_count": 4,
   "id": "96ed8829",
   "metadata": {},
   "outputs": [
    {
     "data": {
      "text/plain": [
       "(1, 2, 3, 4, 5, 7, 10)"
      ]
     },
     "execution_count": 4,
     "metadata": {},
     "output_type": "execute_result"
    }
   ],
   "source": [
    "tup = (1, 2, 3, 4, 5)\n",
    "tup = tup+(7, )\n",
    "tup += (10, )\n",
    "tup"
   ]
  },
  {
   "cell_type": "code",
   "execution_count": 3,
   "id": "e4fb128a",
   "metadata": {},
   "outputs": [
    {
     "name": "stdout",
     "output_type": "stream",
     "text": [
      "Enter no of Employees:  3\n",
      "Enter the 0th Employee Salary: 1000\n",
      "Enter the 1th Employee Salary: 15000\n",
      "Enter the 2th Employee Salary: 20000\n",
      "Maximum salary among all the employee is: 20000\n",
      "Minimum salary among all the employee is: 1000\n"
     ]
    }
   ],
   "source": [
    "Salaries = []\n",
    "n = int(input(\"Enter no of Employees:  \"))\n",
    "\n",
    "for i in range(0, n):\n",
    "    salary = int(input(f\"Enter the {i}th Employee Salary: \"))\n",
    "    Salaries.append(salary)\n",
    "\n",
    "tup_sal = tuple(Salaries)\n",
    "print(f\"Maximum salary among all the employee is:\", max(tup_sal))\n",
    "print(f\"Minimum salary among all the employee is:\", min(tup_sal))"
   ]
  },
  {
   "cell_type": "code",
   "execution_count": 2,
   "id": "2e6c7ced",
   "metadata": {},
   "outputs": [
    {
     "name": "stdout",
     "output_type": "stream",
     "text": [
      "2\n",
      "3\n",
      "1\n",
      "2\n",
      "3\n",
      "1\n",
      "2\n",
      "3\n",
      "1\n"
     ]
    }
   ],
   "source": [
    "\n",
    "a = (1, 2, 3)\n",
    "a = a*3\n",
    "a\n",
    "\n",
    "# Iteration\n",
    "\n",
    "for i in a:\n",
    "    print(a[i])\n",
    "    "
   ]
  },
  {
   "cell_type": "code",
   "execution_count": 1,
   "id": "7a3aa88e",
   "metadata": {},
   "outputs": [
    {
     "name": "stdout",
     "output_type": "stream",
     "text": [
      "Enter the number of employees3\n",
      "Enter the name: subhash\n",
      "Enter the number: 10\n",
      "Enter the name: sam\n",
      "Enter the number: 5\n",
      "Enter the name: ujjwal\n",
      "Enter the number: 50\n",
      "\n",
      "\n",
      "Name: subhash, Number: 10\n",
      "Name: sam, Number: 5\n",
      "Name: ujjwal, Number: 50\n"
     ]
    }
   ],
   "source": [
    "emp = {}\n",
    "\n",
    "n = int(input(\"Enter the number of employees\"))\n",
    "\n",
    "for i in range(n):\n",
    "    name = input(\"Enter the name: \")\n",
    "    number = input(\"Enter the number: \")\n",
    "    \n",
    "    emp[name] = number\n",
    "\n",
    "print(\"\\n\")\n",
    "for name, number in emp.items():\n",
    "\n",
    "    print(f\"Name: {name}, Number: {number}\")"
   ]
  },
  {
   "cell_type": "code",
   "execution_count": null,
   "id": "026ebb57",
   "metadata": {},
   "outputs": [],
   "source": []
  },
  {
   "cell_type": "code",
   "execution_count": null,
   "id": "c43f2b80",
   "metadata": {},
   "outputs": [],
   "source": []
  }
 ],
 "metadata": {
  "kernelspec": {
   "display_name": "Python 3 (ipykernel)",
   "language": "python",
   "name": "python3"
  },
  "language_info": {
   "codemirror_mode": {
    "name": "ipython",
    "version": 3
   },
   "file_extension": ".py",
   "mimetype": "text/x-python",
   "name": "python",
   "nbconvert_exporter": "python",
   "pygments_lexer": "ipython3",
   "version": "3.9.13"
  }
 },
 "nbformat": 4,
 "nbformat_minor": 5
}
